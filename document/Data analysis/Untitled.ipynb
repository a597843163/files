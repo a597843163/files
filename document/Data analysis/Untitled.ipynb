{
 "cells": [
  {
   "cell_type": "code",
   "execution_count": 6,
   "metadata": {},
   "outputs": [],
   "source": [
    "def add(name=None, age=20):\n",
    "    print(name, age, sep=\"\\n\")\n",
    "    \n",
    "def add2(**kwargs):\n",
    "    print(kwargs.get('name'),kwargs['age'],sep='\\n')"
   ]
  },
  {
   "cell_type": "code",
   "execution_count": 2,
   "metadata": {},
   "outputs": [
    {
     "name": "stdout",
     "output_type": "stream",
     "text": [
      "disen\n",
      "30\n"
     ]
    }
   ],
   "source": [
    "add(name='disen', age=30)"
   ]
  },
  {
   "cell_type": "code",
   "execution_count": 3,
   "metadata": {
    "scrolled": true
   },
   "outputs": [
    {
     "name": "stdout",
     "output_type": "stream",
     "text": [
      "jack\n",
      "20\n"
     ]
    }
   ],
   "source": [
    "# 把字典转换成关键字参数 **\n",
    "add(**{\"name\":\"jack\",\"age\":20})"
   ]
  },
  {
   "cell_type": "code",
   "execution_count": 7,
   "metadata": {},
   "outputs": [
    {
     "name": "stdout",
     "output_type": "stream",
     "text": [
      "jack\n",
      "20\n"
     ]
    }
   ],
   "source": [
    "add2(**{\"name\":\"jack\",\"age\":20})"
   ]
  },
  {
   "cell_type": "code",
   "execution_count": 8,
   "metadata": {},
   "outputs": [],
   "source": [
    "class User():\n",
    "    def __init__(self,name,age,sex):\n",
    "        self.name = name\n",
    "        self.age = age\n",
    "        self.sex = sex\n",
    "        \n",
    "    def __repr__(self):\n",
    "        return 'User %s' %self.name"
   ]
  },
  {
   "cell_type": "code",
   "execution_count": 12,
   "metadata": {},
   "outputs": [],
   "source": [
    "# 可以考虑数据操作时,从类里面拿数据\n",
    "def save(obj):\n",
    "    print(obj.__class__.__name__)\n",
    "    print(obj.__dict__)"
   ]
  },
  {
   "cell_type": "code",
   "execution_count": 13,
   "metadata": {},
   "outputs": [
    {
     "name": "stdout",
     "output_type": "stream",
     "text": [
      "User\n",
      "{'name': 'disen', 'age': 20, 'sex': '男'}\n"
     ]
    }
   ],
   "source": [
    "save(User('disen',20,'男'))"
   ]
  },
  {
   "cell_type": "code",
   "execution_count": 19,
   "metadata": {},
   "outputs": [],
   "source": [
    "import time\n",
    "#声明一个打印日志的装饰函数\n",
    "# fun参数,表示被装饰的函数名\n",
    "def log(fun):\n",
    "    def wrapper(*args,**kwargs):\n",
    "        # 自定义日志打印gong功能\n",
    "        print('调用了日志装饰函数',time.localtime())\n",
    "        fun(*args,**kwargs)  # 执行原函数,并返回结果,到调用位置\n",
    "    return wrapper  # 返回包装函数"
   ]
  },
  {
   "cell_type": "code",
   "execution_count": 20,
   "metadata": {},
   "outputs": [],
   "source": [
    "# 使用装饰器\n",
    "@log\n",
    "def save(tableName=None,name=None,age=None):\n",
    "    print('保存到',tableName,'内容为:',name,age)"
   ]
  },
  {
   "cell_type": "code",
   "execution_count": 21,
   "metadata": {
    "scrolled": true
   },
   "outputs": [
    {
     "name": "stdout",
     "output_type": "stream",
     "text": [
      "调用了日志装饰函数 time.struct_time(tm_year=2018, tm_mon=7, tm_mday=2, tm_hour=11, tm_min=18, tm_sec=47, tm_wday=0, tm_yday=183, tm_isdst=0)\n",
      "保存到 user 内容为: Disen 20\n"
     ]
    }
   ],
   "source": [
    "save('user',name='Disen',age=20)"
   ]
  },
  {
   "cell_type": "code",
   "execution_count": 27,
   "metadata": {},
   "outputs": [],
   "source": [
    "# 有参数的装饰装饰器\n",
    "# 用类来创建装饰器\n",
    "class Check():\n",
    "    def __init__(self,name):\n",
    "        self.name = name\n",
    "        \n",
    "    # 当前类作为装饰类使用时,必须要声明call函数\n",
    "    # 当前被装饰函数调用时,则会调用__call__函数\n",
    "    def __call__(self,func):\n",
    "        print('__call__')\n",
    "        def wrapper(*args,**kwargs):\n",
    "            print(self.name,\"检查当前用户是否存在\")\n",
    "            return func(*args,**kwargs)\n",
    "        return wrapper"
   ]
  },
  {
   "cell_type": "code",
   "execution_count": 28,
   "metadata": {},
   "outputs": [
    {
     "name": "stdout",
     "output_type": "stream",
     "text": [
      "__call__\n"
     ]
    }
   ],
   "source": [
    "# 创建Check类对象,(必须会调用__init__)\n",
    "# 调用Check的__call__函数,获取包装函数名\n",
    "@Check('user_check')\n",
    "def remove(userId):\n",
    "    print(\"正在删除: \",userId)\n",
    "# 使用装饰器时,就会得到包装函数名."
   ]
  },
  {
   "cell_type": "code",
   "execution_count": 29,
   "metadata": {
    "scrolled": true
   },
   "outputs": [
    {
     "name": "stdout",
     "output_type": "stream",
     "text": [
      "user_check 检查当前用户是否存在\n",
      "正在删除:  101\n",
      "user_check 检查当前用户是否存在\n",
      "正在删除:  102\n"
     ]
    }
   ],
   "source": [
    "remove(101)\n",
    "remove(102)"
   ]
  },
  {
   "cell_type": "code",
   "execution_count": 40,
   "metadata": {},
   "outputs": [],
   "source": [
    "# 没有参数的装饰装饰器\n",
    "# 用类来创建装饰器\n",
    "class Check2():\n",
    "    # 当被装饰函数调用时,会创建装饰类对象\n",
    "    def __init__(self,func):\n",
    "        print('__call__')\n",
    "        self.func = func\n",
    "        \n",
    "    # 当前类作为装饰类使用时,必须要声明call函数\n",
    "    # 当前被装饰函数调用时,则会调用__call__函数\n",
    "    # 创建完Check2类对象后,则会直接调用__call__,且被装饰函数的参数传入到call里面去\n",
    "    def __call__(self,*args,**kwargs):\n",
    "    # 不再需要写wrapper了\n",
    "        print(\"正在检测用户权限\")\n",
    "        return self.func(*args,**kwargs)\n"
   ]
  },
  {
   "cell_type": "code",
   "execution_count": 41,
   "metadata": {},
   "outputs": [
    {
     "name": "stdout",
     "output_type": "stream",
     "text": [
      "__call__\n"
     ]
    }
   ],
   "source": [
    "# 引用的是check2的类对象,但是,会将被包装的函数名,传入到__init__\n",
    "@Check2\n",
    "def remove2(bookId):\n",
    "     print(\"正在删除: \",bookId)"
   ]
  },
  {
   "cell_type": "code",
   "execution_count": 42,
   "metadata": {},
   "outputs": [
    {
     "name": "stdout",
     "output_type": "stream",
     "text": [
      "正在检测用户权限\n",
      "正在删除:  101\n",
      "正在检测用户权限\n",
      "正在删除:  102\n"
     ]
    }
   ],
   "source": [
    "remove2(101)\n",
    "remove2(102)"
   ]
  },
  {
   "cell_type": "code",
   "execution_count": 43,
   "metadata": {},
   "outputs": [],
   "source": [
    "# 生成10个10-100之间的岁间整数\n",
    "import random\n",
    "def randomNum(nums):\n",
    "    for i in range(nums):\n",
    "        # 通过yield 关键字,实现等待产出\n",
    "        yield random.randint(10,100)"
   ]
  },
  {
   "cell_type": "code",
   "execution_count": 52,
   "metadata": {},
   "outputs": [],
   "source": [
    "newNums = randomNum(10)"
   ]
  },
  {
   "cell_type": "code",
   "execution_count": 45,
   "metadata": {},
   "outputs": [
    {
     "data": {
      "text/plain": [
       "generator"
      ]
     },
     "execution_count": 45,
     "metadata": {},
     "output_type": "execute_result"
    }
   ],
   "source": [
    "type(newNums)"
   ]
  },
  {
   "cell_type": "code",
   "execution_count": 53,
   "metadata": {},
   "outputs": [
    {
     "name": "stdout",
     "output_type": "stream",
     "text": [
      "13\n",
      "94\n",
      "58\n",
      "89\n",
      "38\n",
      "取完了\n"
     ]
    }
   ],
   "source": [
    "try:\n",
    "    while True:\n",
    "        n = next(newNums)\n",
    "        print(n)\n",
    "except:\n",
    "    print(\"取完了\")"
   ]
  },
  {
   "cell_type": "code",
   "execution_count": null,
   "metadata": {},
   "outputs": [],
   "source": []
  },
  {
   "cell_type": "code",
   "execution_count": null,
   "metadata": {},
   "outputs": [],
   "source": []
  },
  {
   "cell_type": "code",
   "execution_count": null,
   "metadata": {},
   "outputs": [],
   "source": []
  },
  {
   "cell_type": "code",
   "execution_count": null,
   "metadata": {},
   "outputs": [],
   "source": []
  },
  {
   "cell_type": "code",
   "execution_count": null,
   "metadata": {},
   "outputs": [],
   "source": []
  },
  {
   "cell_type": "code",
   "execution_count": 54,
   "metadata": {},
   "outputs": [],
   "source": [
    "# 面向对象\n",
    "class Order():\n",
    "    def __init__(self, no, price):\n",
    "        self.no = no\n",
    "        self.price = price\n",
    "    def save(self):\n",
    "        print(self.no,'订单已保存')"
   ]
  },
  {
   "cell_type": "code",
   "execution_count": 55,
   "metadata": {},
   "outputs": [
    {
     "name": "stdout",
     "output_type": "stream",
     "text": [
      "1 订单已保存\n"
     ]
    }
   ],
   "source": [
    "order = Order(1,199)\n",
    "order.save()"
   ]
  },
  {
   "cell_type": "code",
   "execution_count": 56,
   "metadata": {},
   "outputs": [
    {
     "data": {
      "text/plain": [
       "2032620313400"
      ]
     },
     "execution_count": 56,
     "metadata": {},
     "output_type": "execute_result"
    }
   ],
   "source": [
    "# 显示引用对象的首地址\n",
    "id(order)"
   ]
  },
  {
   "cell_type": "code",
   "execution_count": 57,
   "metadata": {},
   "outputs": [
    {
     "data": {
      "text/plain": [
       "2032620347744"
      ]
     },
     "execution_count": 57,
     "metadata": {},
     "output_type": "execute_result"
    }
   ],
   "source": [
    "o2 = Order(2,200)\n",
    "id(o2)  # 每个对象都有自己的地址"
   ]
  },
  {
   "cell_type": "code",
   "execution_count": 59,
   "metadata": {},
   "outputs": [
    {
     "name": "stdout",
     "output_type": "stream",
     "text": [
      "1463580832\n",
      "1463580832\n"
     ]
    }
   ],
   "source": [
    "# 常量池内的数据\n",
    "a = 100\n",
    "b = 100\n",
    "print(id(a))\n",
    "print(id(b))"
   ]
  },
  {
   "cell_type": "code",
   "execution_count": 72,
   "metadata": {},
   "outputs": [
    {
     "name": "stdout",
     "output_type": "stream",
     "text": [
      "2032620262672\n",
      "2032620261776\n"
     ]
    }
   ],
   "source": [
    "# 不是常量池的数据,需要自己创建\n",
    "# 常量池大概在500多以上\n",
    "a = 257\n",
    "b = 257\n",
    "print(id(a))\n",
    "print(id(b))"
   ]
  },
  {
   "cell_type": "code",
   "execution_count": 75,
   "metadata": {},
   "outputs": [],
   "source": [
    "# 继承问题\n",
    "class Person():\n",
    "    def __init__(self):\n",
    "        print('--Person init --')\n",
    "        \n",
    "class Worker(Person):\n",
    "    def __init__(self):\n",
    "        print('--Worker init --')\n",
    "        super().__init__()\n",
    "        \n",
    "class Manager(Person):\n",
    "    def __init__(self):\n",
    "        print('--Manager init --')\n",
    "        super().__init__()\n",
    "        \n",
    "class ProjectLeader(Worker, Manager):\n",
    "    def __init__(self):\n",
    "        print('--ProjectLeader init --')\n",
    "        super().__init__()\n",
    "            \n",
    "class ProjectCTO(ProjectLeader):\n",
    "    def __init__(self):\n",
    "        print('--ProjectCTO init --')\n",
    "        super().__init__()"
   ]
  },
  {
   "cell_type": "code",
   "execution_count": 76,
   "metadata": {},
   "outputs": [
    {
     "name": "stdout",
     "output_type": "stream",
     "text": [
      "--ProjectCTO init --\n",
      "--ProjectLeader init --\n",
      "--Worker init --\n",
      "--Manager init --\n",
      "--Person init --\n",
      "[<class '__main__.ProjectCTO'>, <class '__main__.ProjectLeader'>, <class '__main__.Worker'>, <class '__main__.Manager'>, <class '__main__.Person'>, <class 'object'>]\n"
     ]
    }
   ],
   "source": [
    "cto = ProjectCTO()\n",
    "# 看继承的父类\n",
    "print(ProjectCTO.mro())"
   ]
  },
  {
   "cell_type": "code",
   "execution_count": 77,
   "metadata": {},
   "outputs": [],
   "source": [
    "# PropertyMethod  属性方法\n",
    "class Order():\n",
    "    state_types = ((0,'待支付'),(1,'正在支付'),(2,'已支付'))\n",
    "    \n",
    "    def __init__(self,no,state):\n",
    "        self.no = no        # 订单编号\n",
    "        self.state = state  # 状态编号  如0对应待支付\n",
    "    \n",
    "    # 拿到订单状态\n",
    "    # 用的属性方法  \n",
    "    @property   \n",
    "    def stateName(self):\n",
    "        return self.state_types[self.state][1]"
   ]
  },
  {
   "cell_type": "code",
   "execution_count": 78,
   "metadata": {},
   "outputs": [
    {
     "name": "stdout",
     "output_type": "stream",
     "text": [
      "101 正在支付\n",
      "-----------------\n",
      "102 待支付\n"
     ]
    }
   ],
   "source": [
    "o1 = Order(101,1)\n",
    "o2 = Order(102,0)\n",
    "# 调用属性方法时,看起来是调用属性.实际上是调用方法\n",
    "print(o1.no, o1.stateName)\n",
    "print('-----------------')\n",
    "print(o2.no, o2.stateName)"
   ]
  },
  {
   "cell_type": "code",
   "execution_count": 79,
   "metadata": {
    "scrolled": true
   },
   "outputs": [
    {
     "data": {
      "text/plain": [
       "['__class__',\n",
       " '__delattr__',\n",
       " '__dir__',\n",
       " '__doc__',\n",
       " '__eq__',\n",
       " '__format__',\n",
       " '__ge__',\n",
       " '__getattribute__',\n",
       " '__gt__',\n",
       " '__hash__',\n",
       " '__init__',\n",
       " '__init_subclass__',\n",
       " '__le__',\n",
       " '__lt__',\n",
       " '__ne__',\n",
       " '__new__',\n",
       " '__reduce__',\n",
       " '__reduce_ex__',\n",
       " '__repr__',\n",
       " '__setattr__',\n",
       " '__sizeof__',\n",
       " '__str__',\n",
       " '__subclasshook__']"
      ]
     },
     "execution_count": 79,
     "metadata": {},
     "output_type": "execute_result"
    }
   ],
   "source": [
    "dir(object)"
   ]
  },
  {
   "cell_type": "code",
   "execution_count": 99,
   "metadata": {},
   "outputs": [],
   "source": [
    "class Num():\n",
    "    def __init__(self,n):\n",
    "        self.n = n\n",
    "    # 重写大于等于方法\n",
    "    def __ge__(self,value):\n",
    "        if isinstance(value,Num):\n",
    "            return self.n >= value.n\n",
    "        else :\n",
    "            return self.n >= value\n"
   ]
  },
  {
   "cell_type": "code",
   "execution_count": 100,
   "metadata": {},
   "outputs": [
    {
     "name": "stdout",
     "output_type": "stream",
     "text": [
      "---vvvvvvv---\n",
      "我太聪明了...\n"
     ]
    }
   ],
   "source": [
    "# 类对象参与运算,重写大于等于的方法\n",
    "n1 = Num(10)\n",
    "n2 = Num(30)\n",
    "# 调用n1的 >= 对应的隐式韩式 __ge__\n",
    "# 将n2传入到__ge__函数的value函数\n",
    "if n1 >= n2:\n",
    "    print('---hahahaha--')\n",
    "else:\n",
    "    print('---vvvvvvv---')\n",
    "\n",
    "# 调用n1的ge函数,并将5传给value函数\n",
    "if n1 >=5:\n",
    "    print(\"我太聪明了...\")"
   ]
  },
  {
   "cell_type": "code",
   "execution_count": 101,
   "metadata": {},
   "outputs": [
    {
     "name": "stdout",
     "output_type": "stream",
     "text": [
      "Help on wrapper_descriptor:\n",
      "\n",
      "__gt__(self, value, /)\n",
      "    Return self>value.\n",
      "\n"
     ]
    }
   ],
   "source": [
    "help(object.__gt__)"
   ]
  },
  {
   "cell_type": "code",
   "execution_count": null,
   "metadata": {},
   "outputs": [],
   "source": []
  },
  {
   "cell_type": "code",
   "execution_count": null,
   "metadata": {},
   "outputs": [],
   "source": []
  },
  {
   "cell_type": "code",
   "execution_count": null,
   "metadata": {},
   "outputs": [],
   "source": []
  },
  {
   "cell_type": "code",
   "execution_count": 1,
   "metadata": {},
   "outputs": [],
   "source": [
    "from selenium import webdriver\n",
    "from selenium.webdriver.common.by import By\n",
    "from selenium.webdriver.support import expected_conditions as EC\n",
    "from selenium.webdriver.support.wait import WebDriverWait"
   ]
  },
  {
   "cell_type": "code",
   "execution_count": 3,
   "metadata": {},
   "outputs": [
    {
     "name": "stderr",
     "output_type": "stream",
     "text": [
      "D:\\Anaconda3\\lib\\site-packages\\selenium\\webdriver\\phantomjs\\webdriver.py:49: UserWarning: Selenium support for PhantomJS has been deprecated, please use headless versions of Chrome or Firefox instead\n",
      "  warnings.warn('Selenium support for PhantomJS has been deprecated, please use headless '\n"
     ]
    }
   ],
   "source": [
    "service_args = []\n",
    "driver = webdriver.PhantomJS(service_args=service_args,executable_path=r'F:\\phantomjs-2.1.1-windows\\bin\\phantomjs.exe')"
   ]
  },
  {
   "cell_type": "code",
   "execution_count": 4,
   "metadata": {},
   "outputs": [],
   "source": [
    "driver.implicitly_wait(5)"
   ]
  },
  {
   "cell_type": "code",
   "execution_count": 5,
   "metadata": {},
   "outputs": [],
   "source": [
    "'''隐式等待和显示等待都存在时，超时时间取二者中较大的'''\n",
    "locator = (By.ID,'kw')"
   ]
  },
  {
   "cell_type": "code",
   "execution_count": 6,
   "metadata": {},
   "outputs": [],
   "source": [
    "base_url = \"http://www.baidu.com\"\n",
    "driver.get(base_url)"
   ]
  },
  {
   "cell_type": "code",
   "execution_count": 8,
   "metadata": {},
   "outputs": [
    {
     "data": {
      "text/plain": [
       "True"
      ]
     },
     "execution_count": 8,
     "metadata": {},
     "output_type": "execute_result"
    }
   ],
   "source": [
    "'''判断title,返回布尔值'''\n",
    "WebDriverWait(driver,10).until(EC.title_is(u\"百度一下，你就知道\"))"
   ]
  },
  {
   "cell_type": "code",
   "execution_count": 12,
   "metadata": {},
   "outputs": [
    {
     "data": {
      "text/plain": [
       "True"
      ]
     },
     "execution_count": 12,
     "metadata": {},
     "output_type": "execute_result"
    }
   ],
   "source": [
    "'''判断title，返回布尔值'''\n",
    "WebDriverWait(driver,10).until(EC.title_contains(u\"百度一下\"))"
   ]
  },
  {
   "cell_type": "code",
   "execution_count": 13,
   "metadata": {},
   "outputs": [
    {
     "data": {
      "text/plain": [
       "<selenium.webdriver.remote.webelement.WebElement (session=\"c9383020-804d-11e8-b7d1-439058fdd750\", element=\":wdc:1530793376720\")>"
      ]
     },
     "execution_count": 13,
     "metadata": {},
     "output_type": "execute_result"
    }
   ],
   "source": [
    "'''判断某个元素是否被加到了dom树里，并不代表该元素一定可见，如果定位到就返回WebElement'''\n",
    "WebDriverWait(driver,10).until(EC.presence_of_element_located((By.ID,'kw')))"
   ]
  },
  {
   "cell_type": "code",
   "execution_count": 19,
   "metadata": {},
   "outputs": [
    {
     "data": {
      "text/plain": [
       "<selenium.webdriver.remote.webelement.WebElement (session=\"c9383020-804d-11e8-b7d1-439058fdd750\", element=\":wdc:1530793376720\")>"
      ]
     },
     "execution_count": 19,
     "metadata": {},
     "output_type": "execute_result"
    }
   ],
   "source": [
    "'''判断某个元素是否被添加到了dom里并且可见，可见代表元素可显示且宽和高都大于0'''\n",
    "WebDriverWait(driver,10).until(EC.visibility_of_element_located((By.ID,'kw')))"
   ]
  },
  {
   "cell_type": "code",
   "execution_count": 20,
   "metadata": {},
   "outputs": [
    {
     "data": {
      "text/plain": [
       "<selenium.webdriver.remote.webelement.WebElement (session=\"c9383020-804d-11e8-b7d1-439058fdd750\", element=\":wdc:1530793376720\")>"
      ]
     },
     "execution_count": 20,
     "metadata": {},
     "output_type": "execute_result"
    }
   ],
   "source": [
    "'''判断元素是否可见，如果可见就返回这个元素'''\n",
    "WebDriverWait(driver,10).until(EC.visibility_of(driver.find_element(by=By.ID,value='kw')))"
   ]
  },
  {
   "cell_type": "code",
   "execution_count": 21,
   "metadata": {},
   "outputs": [
    {
     "data": {
      "text/plain": [
       "<selenium.webdriver.remote.webelement.WebElement (session=\"c9383020-804d-11e8-b7d1-439058fdd750\", element=\":wdc:1530793376720\")>"
      ]
     },
     "execution_count": 21,
     "metadata": {},
     "output_type": "execute_result"
    }
   ],
   "source": [
    "driver.find_element_by_id('kw')"
   ]
  }
 ],
 "metadata": {
  "kernelspec": {
   "display_name": "Python 3",
   "language": "python",
   "name": "python3"
  },
  "language_info": {
   "codemirror_mode": {
    "name": "ipython",
    "version": 3
   },
   "file_extension": ".py",
   "mimetype": "text/x-python",
   "name": "python",
   "nbconvert_exporter": "python",
   "pygments_lexer": "ipython3",
   "version": "3.6.5"
  }
 },
 "nbformat": 4,
 "nbformat_minor": 2
}

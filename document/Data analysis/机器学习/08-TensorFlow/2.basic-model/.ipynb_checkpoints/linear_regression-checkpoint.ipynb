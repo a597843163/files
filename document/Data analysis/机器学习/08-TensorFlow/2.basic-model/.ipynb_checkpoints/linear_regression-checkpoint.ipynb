{
 "cells": [
  {
   "cell_type": "markdown",
   "metadata": {},
   "source": [
    "# Linear Regression Example\n",
    "\n",
    "使用TensorFlow实现线性回归.\n",
    "\n"
   ]
  },
  {
   "cell_type": "markdown",
   "metadata": {},
   "source": [
    "导包"
   ]
  },
  {
   "cell_type": "code",
   "execution_count": 44,
   "metadata": {},
   "outputs": [],
   "source": [
    "import tensorflow as tf\n",
    "import numpy as np\n",
    "import matplotlib.pyplot as plt\n",
    "%matplotlib inline\n",
    "rng = np.random"
   ]
  },
  {
   "cell_type": "markdown",
   "metadata": {},
   "source": [
    "定义训练次数learning_epochs，卷曲神经的学习率learning_rate  \n",
    "显示打印数据的步幅display_step"
   ]
  },
  {
   "cell_type": "markdown",
   "metadata": {},
   "source": [
    "生成训练数据"
   ]
  },
  {
   "cell_type": "code",
   "execution_count": 45,
   "metadata": {},
   "outputs": [],
   "source": [
    "# 步幅\n",
    "learning_rate = 0.01\n",
    "# 学习次数\n",
    "training_epochs = 1000\n",
    "# \n",
    "display_step = 50"
   ]
  },
  {
   "cell_type": "code",
   "execution_count": 46,
   "metadata": {},
   "outputs": [],
   "source": [
    "train_X = np.linspace(0,10,num=20) +np.random.randn(20)\n",
    "train_Y = np.linspace(1,4,num=20) +np.random.randn(20)\n",
    "n_samples = train_X.shape[0]"
   ]
  },
  {
   "cell_type": "code",
   "execution_count": 47,
   "metadata": {},
   "outputs": [
    {
     "data": {
      "text/plain": [
       "<matplotlib.collections.PathCollection at 0x1d73df72438>"
      ]
     },
     "execution_count": 47,
     "metadata": {},
     "output_type": "execute_result"
    },
    {
     "data": {
      "image/png": "[encoded data removed]",
      "text/plain": [
       "<Figure size 432x288 with 1 Axes>"
      ]
     },
     "metadata": {},
     "output_type": "display_data"
    }
   ],
   "source": [
    "plt.scatter(train_X,train_Y)"
   ]
  },
  {
   "cell_type": "code",
   "execution_count": 48,
   "metadata": {},
   "outputs": [],
   "source": [
    "# 线性回归\n",
    "# f(x) = w*x +b"
   ]
  },
  {
   "cell_type": "markdown",
   "metadata": {},
   "source": [
    "定义TensorFlow参数：X，Y，W，b"
   ]
  },
  {
   "cell_type": "code",
   "execution_count": 49,
   "metadata": {},
   "outputs": [],
   "source": [
    "X = tf.placeholder('float')\n",
    "Y = tf.placeholder('float')\n",
    "\n",
    "# 定义了变量  W斜率,截距  成功求解\n",
    "\n",
    "W = tf.Variable(rng.randn(),name='weight')\n",
    "b= tf.Variable(rng.randn(),name='bias')"
   ]
  },
  {
   "cell_type": "markdown",
   "metadata": {},
   "source": [
    "创建线性模型"
   ]
  },
  {
   "cell_type": "code",
   "execution_count": 50,
   "metadata": {},
   "outputs": [],
   "source": [
    "# f(x) = w*x +b\n",
    "# 预测值y_pred,原本值  train_Y\n",
    "y_pred = tf.add(tf.multiply(X,W),b)"
   ]
  },
  {
   "cell_type": "markdown",
   "metadata": {},
   "source": [
    "创建TensorFlow均方误差cost  \n",
    "以及梯度下降优化器optimizer"
   ]
  },
  {
   "cell_type": "code",
   "execution_count": 51,
   "metadata": {},
   "outputs": [
    {
     "data": {
      "text/plain": [
       "16"
      ]
     },
     "execution_count": 51,
     "metadata": {},
     "output_type": "execute_result"
    }
   ],
   "source": [
    "# 解释pow函数\n",
    "a = tf.constant(10)\n",
    "sess = tf.Session()\n",
    "# 求4的2次幂\n",
    "sess.run(tf.pow(4,2))"
   ]
  },
  {
   "cell_type": "code",
   "execution_count": 52,
   "metadata": {},
   "outputs": [
    {
     "data": {
      "text/plain": [
       "6"
      ]
     },
     "execution_count": 52,
     "metadata": {},
     "output_type": "execute_result"
    }
   ],
   "source": [
    "# 累加,以求和的方式降低维度\n",
    "sess.run(tf.reduce_sum([1,2,3]))"
   ]
  },
  {
   "cell_type": "code",
   "execution_count": 53,
   "metadata": {},
   "outputs": [
    {
     "data": {
      "text/plain": [
       "array([1.4637996 , 1.97500321, 1.48398741, 3.64856032, 1.73833798,\n",
       "       0.5620818 , 4.02723818, 1.72307279, 3.04874184, 2.61975592,\n",
       "       1.53776713, 0.72389333, 2.19571493, 2.64629515, 4.53087559,\n",
       "       3.49758587, 3.9688428 , 1.48649932, 2.84500232, 2.22226076])"
      ]
     },
     "execution_count": 53,
     "metadata": {},
     "output_type": "execute_result"
    }
   ],
   "source": [
    "train_Y"
   ]
  },
  {
   "cell_type": "code",
   "execution_count": 54,
   "metadata": {},
   "outputs": [],
   "source": [
    "# 平均误差,可以说明我们真实的值和预测的值,误差程度\n",
    "# 算法比较真实数据和预测数据的差距\n",
    "# 1.减法  2.平均误差(更好)用公式就行\n",
    "# 算平均误差\n",
    "# 均方误差公式::预测值-真实值的平方 /次数n\n",
    "cost =tf.reduce_sum(tf.pow(y_pred - Y,2))/n_samples\n",
    "\n",
    "#  实现梯度下降算法的优化器\n",
    "# learning_rate ==0.01\n",
    "# 梯度下降法\n",
    "optimizer = tf.train.GradientDescentOptimizer(learning_rate).minimize(cost)"
   ]
  },
  {
   "cell_type": "markdown",
   "metadata": {},
   "source": [
    "TensorFlow进行初始化"
   ]
  },
  {
   "cell_type": "code",
   "execution_count": 55,
   "metadata": {},
   "outputs": [],
   "source": [
    "# 初始化,还原一些东西\n",
    "init = tf.global_variables_initializer()"
   ]
  },
  {
   "cell_type": "code",
   "execution_count": 56,
   "metadata": {},
   "outputs": [
    {
     "name": "stdout",
     "output_type": "stream",
     "text": [
      "1 4\n",
      "2 5\n",
      "3 6\n"
     ]
    }
   ],
   "source": [
    "# 对zip遍历说明\n",
    "# 每次遍历一起取a,b中的数\n",
    "a1 = [1,2,3]\n",
    "b1 = [4,5,6]\n",
    "for i,j in zip(a1,b1):\n",
    "    print(i,j)"
   ]
  },
  {
   "cell_type": "code",
   "execution_count": 57,
   "metadata": {
    "collapsed": true
   },
   "outputs": [
    {
     "name": "stdout",
     "output_type": "stream",
     "text": [
      "1.551776\n",
      "0.2617409\n",
      "0.7213104\n",
      "\n",
      "1.354694\n",
      "0.21824579\n",
      "1.0334567\n",
      "\n",
      "1.2442644\n",
      "0.18556765\n",
      "1.2679747\n",
      "\n",
      "1.1825444\n",
      "0.16101627\n",
      "1.4441701\n",
      "\n",
      "1.1481661\n",
      "0.14257059\n",
      "1.5765476\n",
      "\n",
      "1.1291072\n",
      "0.12871206\n",
      "1.6760042\n",
      "\n",
      "1.118609\n",
      "0.1183\n",
      "1.7507274\n",
      "\n",
      "1.112879\n",
      "0.11047782\n",
      "1.8068644\n",
      "\n",
      "1.1097913\n",
      "0.10460093\n",
      "1.8490403\n",
      "\n",
      "1.1081587\n",
      "0.10018541\n",
      "1.8807287\n",
      "\n",
      "1.10732\n",
      "0.096867934\n",
      "1.904537\n",
      "\n",
      "1.1069088\n",
      "0.094375595\n",
      "1.9224234\n",
      "\n",
      "1.1067235\n",
      "0.09250265\n",
      "1.9358649\n",
      "\n",
      "1.1066542\n",
      "0.091095954\n",
      "1.9459599\n",
      "\n",
      "1.1066413\n",
      "0.090039\n",
      "1.9535453\n",
      "\n",
      "1.1066538\n",
      "0.08924489\n",
      "1.9592443\n",
      "\n",
      "1.106676\n",
      "0.08864793\n",
      "1.9635288\n",
      "\n",
      "1.1066995\n",
      "0.08819965\n",
      "1.9667456\n",
      "\n",
      "1.1067214\n",
      "0.08786316\n",
      "1.9691604\n",
      "\n",
      "1.1067399\n",
      "0.08761031\n",
      "1.9709752\n",
      "\n",
      "1.1067399\n",
      "0.08761031\n",
      "1.9709752\n",
      "\n"
     ]
    },
    {
     "data": {
      "image/png": "[encoded data removed]",
      "text/plain": [
       "<Figure size 432x288 with 1 Axes>"
      ]
     },
     "metadata": {},
     "output_type": "display_data"
    }
   ],
   "source": [
    "# 训练开始\n",
    "# 目的是让cost均方误差最小\n",
    "with tf.Session() as sess:\n",
    "    # 初始化\n",
    "    sess.run(init)\n",
    "    \n",
    "    # 训练所有数据   1000次for循环\n",
    "    for epoch in range(training_epochs):\n",
    "        # 循环20次\n",
    "        for (x,y) in zip(train_X,train_Y):\n",
    "                # 每次for循环执行了梯度下降的算法\n",
    "                # x,y是train_X  ,train_Y里面的每一个值  \n",
    "                sess.run(optimizer,feed_dict={X:x ,Y:y})\n",
    "        # 每次执行50次显示运算结果\n",
    "        # display_step 等于50\n",
    "        if ((epoch+1) % display_step) == 0:\n",
    "            # 打印了一下平均误差\n",
    "            c = sess.run(cost,feed_dict={X:train_X,Y:train_Y})\n",
    "            print(c)\n",
    "            print(sess.run(W))\n",
    "            print(sess.run(b))\n",
    "            print(\"\")\n",
    "    # 运算算法优化结束\n",
    "    # 最终的结果\n",
    "    training_cost = sess.run(cost,feed_dict={X:train_X,Y:train_Y})\n",
    "    print(training_cost)\n",
    "    print(sess.run(W))\n",
    "    print(sess.run(b))\n",
    "    print(\"\")\n",
    "    plt.scatter(train_X,train_Y,c='r',label='yuan data')\n",
    "    plt.plot(train_X,sess.run(W)*train_X+sess.run(b),label='predict data')\n",
    "    plt.legend()"
   ]
  }
 ],
 "metadata": {
  "anaconda-cloud": {},
  "kernelspec": {
   "display_name": "Python 3",
   "language": "python",
   "name": "python3"
  },
  "language_info": {
   "codemirror_mode": {
    "name": "ipython",
    "version": 3
   },
   "file_extension": ".py",
   "mimetype": "text/x-python",
   "name": "python",
   "nbconvert_exporter": "python",
   "pygments_lexer": "ipython3",
   "version": "3.6.5"
  }
 },
 "nbformat": 4,
 "nbformat_minor": 1
}

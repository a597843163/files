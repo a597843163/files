{
 "cells": [
  {
   "cell_type": "code",
   "execution_count": 1,
   "metadata": {},
   "outputs": [],
   "source": [
    "import numpy as np"
   ]
  },
  {
   "cell_type": "code",
   "execution_count": 4,
   "metadata": {},
   "outputs": [
    {
     "data": {
      "text/plain": [
       "array([0., 0., 0., 0., 1., 0., 0., 0., 0., 0.])"
      ]
     },
     "execution_count": 4,
     "metadata": {},
     "output_type": "execute_result"
    }
   ],
   "source": [
    "# 1、创建一个长度为10的一维全为0的ndarray对象，然后让第5个元素等于1\n",
    "n = np.zeros(10)\n",
    "n[4] = 1\n",
    "n"
   ]
  },
  {
   "cell_type": "code",
   "execution_count": 19,
   "metadata": {},
   "outputs": [
    {
     "data": {
      "text/plain": [
       "array([10, 11, 12, 13, 14, 15, 16, 17, 18, 19, 20, 21, 22, 23, 24, 25, 26,\n",
       "       27, 28, 29, 30, 31, 32, 33, 34, 35, 36, 37, 38, 39, 40, 41, 42, 43,\n",
       "       44, 45, 46, 47, 48, 49])"
      ]
     },
     "execution_count": 19,
     "metadata": {},
     "output_type": "execute_result"
    }
   ],
   "source": [
    "# 2、创建一个元素为从10到49的ndarray对象\n",
    "n2=np.arange(10,50,1)\n",
    "n2"
   ]
  },
  {
   "cell_type": "code",
   "execution_count": 20,
   "metadata": {
    "scrolled": true
   },
   "outputs": [
    {
     "data": {
      "text/plain": [
       "array([49, 48, 47, 46, 45, 44, 43, 42, 41, 40, 39, 38, 37, 36, 35, 34, 33,\n",
       "       32, 31, 30, 29, 28, 27, 26, 25, 24, 23, 22, 21, 20, 19, 18, 17, 16,\n",
       "       15, 14, 13, 12, 11, 10])"
      ]
     },
     "execution_count": 20,
     "metadata": {},
     "output_type": "execute_result"
    }
   ],
   "source": [
    "# 3、将第2题的所有元素位置反转\n",
    "n3 = n2[::-1]\n",
    "n3"
   ]
  },
  {
   "cell_type": "code",
   "execution_count": 30,
   "metadata": {},
   "outputs": [
    {
     "data": {
      "text/plain": [
       "0.9693111247387226"
      ]
     },
     "execution_count": 30,
     "metadata": {},
     "output_type": "execute_result"
    }
   ],
   "source": [
    "# 4、使用np.random.random创建一个10*10的ndarray对象，并打印出最大最小元素\n",
    "n4 = np.random.random(size=(10,10))\n",
    "n4_max = np.max(n4)\n",
    "n4_max"
   ]
  },
  {
   "cell_type": "code",
   "execution_count": 31,
   "metadata": {},
   "outputs": [
    {
     "data": {
      "text/plain": [
       "0.016979840528144496"
      ]
     },
     "execution_count": 31,
     "metadata": {},
     "output_type": "execute_result"
    }
   ],
   "source": [
    "n4_min = np.min(n4)\n",
    "n4_min"
   ]
  },
  {
   "cell_type": "code",
   "execution_count": 52,
   "metadata": {
    "scrolled": true
   },
   "outputs": [
    {
     "data": {
      "text/plain": [
       "array([[1., 1., 1., 1., 1., 1., 1., 1., 1., 1.],\n",
       "       [1., 0., 0., 0., 0., 0., 0., 0., 0., 1.],\n",
       "       [1., 1., 1., 1., 1., 1., 1., 1., 1., 1.],\n",
       "       [1., 0., 0., 0., 0., 0., 0., 0., 0., 1.],\n",
       "       [1., 1., 1., 1., 1., 1., 1., 1., 1., 1.],\n",
       "       [1., 0., 0., 0., 0., 0., 0., 0., 0., 1.],\n",
       "       [1., 1., 1., 1., 1., 1., 1., 1., 1., 1.],\n",
       "       [1., 0., 0., 0., 0., 0., 0., 0., 0., 1.],\n",
       "       [1., 1., 1., 1., 1., 1., 1., 1., 1., 1.],\n",
       "       [1., 1., 1., 1., 1., 1., 1., 1., 1., 1.]])"
      ]
     },
     "execution_count": 52,
     "metadata": {},
     "output_type": "execute_result"
    }
   ],
   "source": [
    "# 5、创建一个10*10的ndarray对象，且矩阵边界全为1，里面全为0\n",
    "n5 = np.ones((10,10))\n",
    "n5[1:9,1:9] = 0\n",
    "n5"
   ]
  },
  {
   "cell_type": "code",
   "execution_count": 7,
   "metadata": {
    "scrolled": true
   },
   "outputs": [
    {
     "data": {
      "text/plain": [
       "array([[0, 1, 2, 3, 4],\n",
       "       [0, 1, 2, 3, 4],\n",
       "       [0, 1, 2, 3, 4],\n",
       "       [0, 1, 2, 3, 4],\n",
       "       [0, 1, 2, 3, 4]])"
      ]
     },
     "execution_count": 7,
     "metadata": {},
     "output_type": "execute_result"
    }
   ],
   "source": [
    "# 6、创建一个每一行都是从0到4的5*5矩阵\n",
    "n6 = np.arange(0,5)\n",
    "n6 = np.array([n6,n6,n6,n6,n6])\n",
    "n6\n"
   ]
  },
  {
   "cell_type": "code",
   "execution_count": 10,
   "metadata": {},
   "outputs": [
    {
     "data": {
      "text/plain": [
       "array([0.        , 0.08333333, 0.16666667, 0.25      , 0.33333333,\n",
       "       0.41666667, 0.5       , 0.58333333, 0.66666667, 0.75      ,\n",
       "       0.83333333, 0.91666667])"
      ]
     },
     "execution_count": 10,
     "metadata": {},
     "output_type": "execute_result"
    }
   ],
   "source": [
    "# 7、创建一个范围在(0,1)之间的长度为12的等差数列\n",
    "n7 = np.linspace(start = 0,stop = 1,num = 12,endpoint=False) \n",
    "n7"
   ]
  },
  {
   "cell_type": "code",
   "execution_count": 11,
   "metadata": {
    "scrolled": true
   },
   "outputs": [
    {
     "data": {
      "text/plain": [
       "array([37, 62, 90, 14, 93, 24, 65, 87, 54, 43])"
      ]
     },
     "execution_count": 11,
     "metadata": {},
     "output_type": "execute_result"
    }
   ],
   "source": [
    "# 8、创建一个长度为10的随机数组并排序\n",
    "n8 = np.random.randint(0,100,size=10)\n",
    "n8"
   ]
  },
  {
   "cell_type": "code",
   "execution_count": 25,
   "metadata": {},
   "outputs": [
    {
     "data": {
      "text/plain": [
       "0"
      ]
     },
     "execution_count": 25,
     "metadata": {},
     "output_type": "execute_result"
    }
   ],
   "source": [
    "# 9、创建一个长度为10的随机数组并将最大值替换为0\n",
    "n8 = np.random.randint(0,100,size=10)\n",
    "n8_max = np.argmax(n8)\n",
    "n8[n8_max] = 0\n",
    "n8[n8_max]"
   ]
  },
  {
   "cell_type": "code",
   "execution_count": 5,
   "metadata": {},
   "outputs": [
    {
     "data": {
      "text/plain": [
       "array([[84, 50, 13, 23, 55],\n",
       "       [91, 84, 76, 99, 14],\n",
       "       [47, 87, 80, 21,  1],\n",
       "       [56, 97,  6, 16, 82],\n",
       "       [50, 35,  9, 85, 76]])"
      ]
     },
     "execution_count": 5,
     "metadata": {},
     "output_type": "execute_result"
    }
   ],
   "source": [
    "# 10、如何根据第3列来对一个5*5矩阵排序？\n",
    "n10 = np.random.randint(0,100,size=(5,5))\n",
    "n10"
   ]
  },
  {
   "cell_type": "code",
   "execution_count": 8,
   "metadata": {},
   "outputs": [
    {
     "data": {
      "text/plain": [
       "array([[84, 50,  6, 23, 55],\n",
       "       [91, 84,  9, 99, 14],\n",
       "       [47, 87, 13, 21,  1],\n",
       "       [56, 97, 76, 16, 82],\n",
       "       [50, 35, 80, 85, 76]])"
      ]
     },
     "execution_count": 8,
     "metadata": {},
     "output_type": "execute_result"
    }
   ],
   "source": [
    "n10[:,2].sort()\n",
    "n10"
   ]
  },
  {
   "cell_type": "code",
   "execution_count": 71,
   "metadata": {
    "collapsed": true
   },
   "outputs": [
    {
     "data": {
      "text/plain": [
       "array([[[[ 6, 57, 94],\n",
       "         [58, 16, 81],\n",
       "         [34, 25, 61]],\n",
       "\n",
       "        [[61, 50, 52],\n",
       "         [10, 11, 71],\n",
       "         [12, 90, 52]],\n",
       "\n",
       "        [[ 0, 25, 97],\n",
       "         [97, 52,  2],\n",
       "         [ 4, 99, 46]]],\n",
       "\n",
       "\n",
       "       [[[ 6, 64, 17],\n",
       "         [18, 53, 32],\n",
       "         [75, 65, 50]],\n",
       "\n",
       "        [[24, 54, 38],\n",
       "         [90, 92, 88],\n",
       "         [ 9, 27, 22]],\n",
       "\n",
       "        [[15, 54, 67],\n",
       "         [22, 96, 81],\n",
       "         [36, 56, 50]]],\n",
       "\n",
       "\n",
       "       [[[57, 58, 45],\n",
       "         [39, 44, 33],\n",
       "         [68, 75, 63]],\n",
       "\n",
       "        [[51, 12, 75],\n",
       "         [12, 96, 80],\n",
       "         [68, 20, 17]],\n",
       "\n",
       "        [[70, 86, 87],\n",
       "         [86, 46, 91],\n",
       "         [ 6,  0, 89]]]])"
      ]
     },
     "execution_count": 71,
     "metadata": {},
     "output_type": "execute_result"
    }
   ],
   "source": [
    "# 11、给定一个4维矩阵，如何得到最后两维的和？\n",
    "n11 = np.random.randint(0,100,size=(3,3,3,3))\n",
    "n11"
   ]
  },
  {
   "cell_type": "code",
   "execution_count": 35,
   "metadata": {},
   "outputs": [
    {
     "data": {
      "text/plain": [
       "338"
      ]
     },
     "execution_count": 35,
     "metadata": {},
     "output_type": "execute_result"
    }
   ],
   "source": [
    "n11_max = np.sum(n9[-1,-1,-2:])\n",
    "n11_max"
   ]
  },
  {
   "cell_type": "code",
   "execution_count": 85,
   "metadata": {},
   "outputs": [
    {
     "data": {
      "text/plain": [
       "array([1, 2, 3, 4, 5])"
      ]
     },
     "execution_count": 85,
     "metadata": {},
     "output_type": "execute_result"
    }
   ],
   "source": [
    "# 12、给定数组[1, 2, 3, 4, 5]，如何得到在这个数组的每个元素之间插入3个0后的新数组？\n",
    "n12 = np.array([1,2,3,4,5])\n",
    "n12"
   ]
  },
  {
   "cell_type": "code",
   "execution_count": 116,
   "metadata": {
    "scrolled": true
   },
   "outputs": [
    {
     "data": {
      "text/plain": [
       "array([[0, 0, 0, 0, 0, 0, 0, 0, 0, 0, 0, 0, 0, 0, 0]])"
      ]
     },
     "execution_count": 116,
     "metadata": {},
     "output_type": "execute_result"
    }
   ],
   "source": [
    "n12_zero = np.zeros((1,15),dtype=int)\n",
    "n12_zero"
   ]
  },
  {
   "cell_type": "code",
   "execution_count": 118,
   "metadata": {
    "scrolled": false
   },
   "outputs": [
    {
     "data": {
      "text/plain": [
       "array([1, 0, 0, 0, 2, 0, 0, 0, 3, 0, 0, 0, 4, 0, 0, 0, 5])"
      ]
     },
     "execution_count": 118,
     "metadata": {},
     "output_type": "execute_result"
    }
   ],
   "source": [
    "n12_new = n12.reshape((5,1))\n",
    "n12_new2 = n12_zero.reshape(5,3)\n",
    "n12_new3 = np.concatenate((n12_new,n12_new2),axis = 1)\n",
    "n12_new3 = np.hstack(n12_new3)\n",
    "n12_end = n12_new3[:-3]\n",
    "n12_end"
   ]
  },
  {
   "cell_type": "code",
   "execution_count": 119,
   "metadata": {
    "scrolled": false
   },
   "outputs": [
    {
     "data": {
      "text/plain": [
       "array([[40, 83, 50, 46],\n",
       "       [72, 23, 27, 25],\n",
       "       [65, 73, 68, 24],\n",
       "       [91, 24, 61, 63]])"
      ]
     },
     "execution_count": 119,
     "metadata": {},
     "output_type": "execute_result"
    }
   ],
   "source": [
    "# 13、给定一个二维矩阵，如何交换其中两行的元素？\n",
    "n13 = np.random.randint(0,100,size = (4,4))\n",
    "n13"
   ]
  },
  {
   "cell_type": "code",
   "execution_count": 120,
   "metadata": {},
   "outputs": [
    {
     "data": {
      "text/plain": [
       "array([[72, 23, 27, 25],\n",
       "       [40, 83, 50, 46],\n",
       "       [91, 24, 61, 63],\n",
       "       [65, 73, 68, 24]])"
      ]
     },
     "execution_count": 120,
     "metadata": {},
     "output_type": "execute_result"
    }
   ],
   "source": [
    "odd = n13[0::2].copy()\n",
    "n13[0::2] = n13[1::2] \n",
    "n13[1::2] = odd\n",
    "n13"
   ]
  },
  {
   "cell_type": "code",
   "execution_count": 59,
   "metadata": {
    "scrolled": true
   },
   "outputs": [
    {
     "data": {
      "text/plain": [
       "array([7, 6, 6, ..., 6, 4, 3])"
      ]
     },
     "execution_count": 59,
     "metadata": {},
     "output_type": "execute_result"
    }
   ],
   "source": [
    "# 14、创建一个100000长度的随机数组，使用两种方法对其求三次方，并比较所用时间\n",
    "n14 = np.random.randint(0,10,size=10000)\n",
    "n14"
   ]
  },
  {
   "cell_type": "code",
   "execution_count": 61,
   "metadata": {},
   "outputs": [
    {
     "name": "stdout",
     "output_type": "stream",
     "text": [
      "28.8 µs ± 1.91 µs per loop (mean ± std. dev. of 7 runs, 10000 loops each)\n"
     ]
    },
    {
     "data": {
      "text/plain": [
       "array([343, 216, 216, ..., 216,  64,  27])"
      ]
     },
     "execution_count": 61,
     "metadata": {},
     "output_type": "execute_result"
    }
   ],
   "source": [
    "# 更快\n",
    "%timeit n14_3 = n14*n14*n14\n",
    "n14_3"
   ]
  },
  {
   "cell_type": "code",
   "execution_count": 62,
   "metadata": {},
   "outputs": [
    {
     "name": "stdout",
     "output_type": "stream",
     "text": [
      "39.1 µs ± 1.68 µs per loop (mean ± std. dev. of 7 runs, 10000 loops each)\n"
     ]
    },
    {
     "data": {
      "text/plain": [
       "array([343, 216, 216, ..., 216,  64,  27])"
      ]
     },
     "execution_count": 62,
     "metadata": {},
     "output_type": "execute_result"
    }
   ],
   "source": [
    "# 更慢\n",
    "%timeit n14_3 = np.power(n14,3)\n",
    "n14_3"
   ]
  },
  {
   "cell_type": "code",
   "execution_count": 63,
   "metadata": {},
   "outputs": [
    {
     "data": {
      "text/plain": [
       "array([[77, 35],\n",
       "       [89, 26],\n",
       "       [58, 33],\n",
       "       [69, 24],\n",
       "       [40,  4]])"
      ]
     },
     "execution_count": 63,
     "metadata": {},
     "output_type": "execute_result"
    }
   ],
   "source": [
    "# 15、创建一个5*3随机矩阵和一个3*2随机矩阵，求矩阵积\n",
    "n15_1 = np.random.randint(0,10,size=(5,3))\n",
    "n15_2 = np.random.randint(0,10,size=(3,2))\n",
    "n15 = np.dot(n15_1,n15_2)\n",
    "n15"
   ]
  },
  {
   "cell_type": "code",
   "execution_count": 67,
   "metadata": {},
   "outputs": [
    {
     "data": {
      "text/plain": [
       "array([[3, 9, 8],\n",
       "       [2, 8, 9],\n",
       "       [2, 8, 9],\n",
       "       [1, 4, 8],\n",
       "       [6, 2, 2]])"
      ]
     },
     "execution_count": 67,
     "metadata": {},
     "output_type": "execute_result"
    }
   ],
   "source": [
    "# 16、矩阵的每一行的元素都减去该行的平均值\n",
    "n16 = np.random.randint(0,10,size=(5,3))\n",
    "n16"
   ]
  },
  {
   "cell_type": "code",
   "execution_count": 68,
   "metadata": {},
   "outputs": [
    {
     "data": {
      "text/plain": [
       "5.4"
      ]
     },
     "execution_count": 68,
     "metadata": {},
     "output_type": "execute_result"
    }
   ],
   "source": [
    "n16_avr = np.mean(n16)\n",
    "n16_avr"
   ]
  },
  {
   "cell_type": "code",
   "execution_count": 70,
   "metadata": {},
   "outputs": [
    {
     "data": {
      "text/plain": [
       "array([[-2.4,  3.6,  2.6],\n",
       "       [-3.4,  2.6,  3.6],\n",
       "       [-3.4,  2.6,  3.6],\n",
       "       [-4.4, -1.4,  2.6],\n",
       "       [ 0.6, -3.4, -3.4]])"
      ]
     },
     "execution_count": 70,
     "metadata": {},
     "output_type": "execute_result"
    }
   ],
   "source": [
    "n16 = n16 - n16_avr\n",
    "n16"
   ]
  },
  {
   "cell_type": "code",
   "execution_count": 56,
   "metadata": {
    "collapsed": true
   },
   "outputs": [
    {
     "data": {
      "text/plain": [
       "array([[0., 1., 0., 1., 0., 1., 0., 1.],\n",
       "       [1., 0., 1., 0., 1., 0., 1., 0.],\n",
       "       [0., 1., 0., 1., 0., 1., 0., 1.],\n",
       "       [1., 0., 1., 0., 1., 0., 1., 0.],\n",
       "       [0., 1., 0., 1., 0., 1., 0., 1.],\n",
       "       [1., 0., 1., 0., 1., 0., 1., 0.],\n",
       "       [0., 1., 0., 1., 0., 1., 0., 1.],\n",
       "       [1., 0., 1., 0., 1., 0., 1., 0.]])"
      ]
     },
     "execution_count": 56,
     "metadata": {},
     "output_type": "execute_result"
    }
   ],
   "source": [
    "#17、打印出以下函数（要求使用np.zeros创建8*8的矩阵）：\n",
    "# [[0 1 0 1 0 1 0 1]\n",
    "#  [1 0 1 0 1 0 1 0]\n",
    "#  [0 1 0 1 0 1 0 1]\n",
    "#  [1 0 1 0 1 0 1 0]\n",
    "#  [0 1 0 1 0 1 0 1]\n",
    "#  [1 0 1 0 1 0 1 0]\n",
    "#  [0 1 0 1 0 1 0 1]\n",
    "#  [1 0 1 0 1 0 1 0]]\n",
    "n17 = np.zeros((8,8))\n",
    "n17[1:8:2,0:8:2]=1\n",
    "n17[0:8:2,1:8:2]=1\n",
    "n17"
   ]
  },
  {
   "cell_type": "code",
   "execution_count": 127,
   "metadata": {},
   "outputs": [
    {
     "data": {
      "text/plain": [
       "array([[1, 8, 6, 7, 1],\n",
       "       [9, 9, 5, 3, 3],\n",
       "       [7, 1, 1, 8, 7],\n",
       "       [7, 2, 9, 3, 5],\n",
       "       [9, 8, 6, 2, 3]])"
      ]
     },
     "execution_count": 127,
     "metadata": {},
     "output_type": "execute_result"
    }
   ],
   "source": [
    "# 18、正则化一个5*5随机矩阵\n",
    "# 正则的概念：假设a是矩阵中的一个元素，max/min分别是矩阵元素的最大最小值，则正则化后a = (a - min)/(max - min)\n",
    "n18 = np.random.randint(1,10,size=(5,5))\n",
    "n18"
   ]
  },
  {
   "cell_type": "code",
   "execution_count": 131,
   "metadata": {},
   "outputs": [],
   "source": [
    "n18_max = np.max(n18)\n",
    "n18_min = np.min(n18)"
   ]
  },
  {
   "cell_type": "code",
   "execution_count": 135,
   "metadata": {
    "scrolled": true
   },
   "outputs": [
    {
     "data": {
      "text/plain": [
       "array([[0, 0, 0, 0, 0],\n",
       "       [1, 1, 0, 0, 0],\n",
       "       [0, 0, 0, 0, 0],\n",
       "       [0, 0, 1, 0, 0],\n",
       "       [1, 0, 0, 0, 0]])"
      ]
     },
     "metadata": {},
     "output_type": "display_data"
    }
   ],
   "source": [
    "def re(n):\n",
    "    for i in range(5):\n",
    "        for j in range(5):\n",
    "            n[i,j] = (n[i,j] - n18_min)/(n18_max - n18_min)\n",
    "    return n\n",
    "display(re(n18))"
   ]
  },
  {
   "cell_type": "code",
   "execution_count": 136,
   "metadata": {},
   "outputs": [
    {
     "data": {
      "text/plain": [
       "array([0, 1, 2, 3, 4])"
      ]
     },
     "execution_count": 136,
     "metadata": {},
     "output_type": "execute_result"
    }
   ],
   "source": [
    "# 19、将一个一维数组转化为二进制表示矩阵。例如\n",
    "# [1,2,3]\n",
    "# 转化为\n",
    "# [[0,0,1],\n",
    "# [0,1,0],\n",
    "# [0,1,1]]\n",
    "n19 = np.arange(5)\n",
    "n19"
   ]
  },
  {
   "cell_type": "code",
   "execution_count": null,
   "metadata": {},
   "outputs": [],
   "source": [
    "# 20、实现冒泡排序法"
   ]
  }
 ],
 "metadata": {
  "kernelspec": {
   "display_name": "Python 3",
   "language": "python",
   "name": "python3"
  },
  "language_info": {
   "codemirror_mode": {
    "name": "ipython",
    "version": 3
   },
   "file_extension": ".py",
   "mimetype": "text/x-python",
   "name": "python",
   "nbconvert_exporter": "python",
   "pygments_lexer": "ipython3",
   "version": "3.6.5"
  }
 },
 "nbformat": 4,
 "nbformat_minor": 1
}

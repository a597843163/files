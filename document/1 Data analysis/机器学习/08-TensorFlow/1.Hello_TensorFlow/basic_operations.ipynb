{
 "cells": [
  {
   "cell_type": "code",
   "execution_count": 1,
   "metadata": {
    "scrolled": false
   },
   "outputs": [
    {
     "name": "stderr",
     "output_type": "stream",
     "text": [
      "D:\\Anaconda3\\lib\\site-packages\\h5py\\__init__.py:36: FutureWarning: Conversion of the second argument of issubdtype from `float` to `np.floating` is deprecated. In future, it will be treated as `np.float64 == np.dtype(float).type`.\n",
      "  from ._conv import register_converters as _register_converters\n"
     ]
    }
   ],
   "source": [
    "import tensorflow as tf"
   ]
  },
  {
   "cell_type": "code",
   "execution_count": 2,
   "metadata": {},
   "outputs": [],
   "source": [
    "a = tf.constant(2)\n",
    "b = tf.constant(3)"
   ]
  },
  {
   "cell_type": "code",
   "execution_count": 10,
   "metadata": {},
   "outputs": [
    {
     "name": "stdout",
     "output_type": "stream",
     "text": [
      "2\n",
      "5\n",
      "12\n"
     ]
    }
   ],
   "source": [
    "# 启动\n",
    "# 算法运算\n",
    "with tf.Session() as sess:\n",
    "    print(sess.run(a))\n",
    "    print(sess.run(a+b))\n",
    "    print(sess.run(a*2*b))"
   ]
  },
  {
   "cell_type": "markdown",
   "metadata": {},
   "source": [
    "第一种方式,声明常量进行了算数运算\n",
    "第二种方式,声明placeholder,占位符"
   ]
  },
  {
   "cell_type": "code",
   "execution_count": 14,
   "metadata": {},
   "outputs": [],
   "source": [
    "a = tf.placeholder(tf.int32)\n",
    "b = tf.placeholder(tf.int32)\n",
    "c = tf.placeholder(tf.int32)"
   ]
  },
  {
   "cell_type": "code",
   "execution_count": 12,
   "metadata": {},
   "outputs": [],
   "source": [
    "# tensorflow\n",
    "# 定义操作,原理图中的加减操作\n",
    "# 加\n",
    "add = tf.add(a,b)\n",
    "# 减\n",
    "sub = tf.subtract(a,b)\n",
    "# 乘\n",
    "mul = tf.multiply(a,b)\n",
    "# 除\n",
    "div = tf.divide(a,b)"
   ]
  },
  {
   "cell_type": "code",
   "execution_count": 13,
   "metadata": {},
   "outputs": [
    {
     "name": "stdout",
     "output_type": "stream",
     "text": [
      "5\n",
      "6\n",
      "0.42857142857142855\n",
      "-1\n"
     ]
    }
   ],
   "source": [
    "# 启动具体操作\n",
    "with tf.Session() as sess:\n",
    "    # 加\n",
    "    print(sess.run(add,feed_dict={a:2,b:3}))\n",
    "    # 减\n",
    "    print(sess.run(mul,feed_dict={a:2,b:3}))\n",
    "    # 乘\n",
    "    print(sess.run(div,feed_dict={a:3,b:7}))\n",
    "    # 除\n",
    "    print(sess.run(sub,feed_dict={a:2,b:3}))"
   ]
  },
  {
   "cell_type": "code",
   "execution_count": 15,
   "metadata": {},
   "outputs": [],
   "source": [
    "#  声明ndarray,list\n",
    "matrix1 = tf.constant([[3.,3.]])\n",
    "matrix2 = tf.constant([[2.],[2.]])"
   ]
  },
  {
   "cell_type": "code",
   "execution_count": 26,
   "metadata": {},
   "outputs": [],
   "source": [
    "# 更复杂的矩阵\n",
    "import numpy as np\n",
    "a = np.array([1,2,3,4,5,6],dtype=float).reshape((1,6))\n",
    "b = np.linspace(-np.pi,np.pi,6,dtype=float).reshape((6,1))"
   ]
  },
  {
   "cell_type": "code",
   "execution_count": 27,
   "metadata": {},
   "outputs": [],
   "source": [
    "matrix3 = tf.constant(a)\n",
    "matrix4 = tf.constant(b)"
   ]
  },
  {
   "cell_type": "code",
   "execution_count": 16,
   "metadata": {},
   "outputs": [],
   "source": [
    "# 矩阵乘法   matmul\n",
    "# S算数乘法  multiply\n",
    "product = tf.matmul(matrix1,matrix2)\n",
    "add = tf.add(matrix1,matrix2)"
   ]
  },
  {
   "cell_type": "code",
   "execution_count": 18,
   "metadata": {},
   "outputs": [],
   "source": [
    "# 常规的乘法\n",
    "mul = tf.multiply(matrix1,matrix2)"
   ]
  },
  {
   "cell_type": "code",
   "execution_count": 19,
   "metadata": {},
   "outputs": [
    {
     "name": "stdout",
     "output_type": "stream",
     "text": [
      "[[12.]]\n",
      "[[5. 5.]\n",
      " [5. 5.]]\n",
      " \n",
      "[[6. 6.]\n",
      " [6. 6.]]\n"
     ]
    }
   ],
   "source": [
    "# 开启会话,执行运算\n",
    "with tf.Session() as sess:\n",
    "    print(sess.run(product))  #  [[12.]]\n",
    "    print(sess.run(add))\n",
    "    #  [[5. 5.]\n",
    "    #  [5. 5.]]\n",
    "    print(\" \")\n",
    "    print(sess.run(mul))\n",
    "    # [[6. 6.]\n",
    "    # [6. 6.]]"
   ]
  },
  {
   "cell_type": "code",
   "execution_count": 28,
   "metadata": {},
   "outputs": [
    {
     "name": "stdout",
     "output_type": "stream",
     "text": [
      "[[21.99114858]]\n",
      "[[-2.14159265 -1.14159265 -0.14159265  0.85840735  1.85840735  2.85840735]\n",
      " [-0.88495559  0.11504441  1.11504441  2.11504441  3.11504441  4.11504441]\n",
      " [ 0.37168147  1.37168147  2.37168147  3.37168147  4.37168147  5.37168147]\n",
      " [ 1.62831853  2.62831853  3.62831853  4.62831853  5.62831853  6.62831853]\n",
      " [ 2.88495559  3.88495559  4.88495559  5.88495559  6.88495559  7.88495559]\n",
      " [ 4.14159265  5.14159265  6.14159265  7.14159265  8.14159265  9.14159265]]\n",
      " \n",
      "[[ -3.14159265  -6.28318531  -9.42477796 -12.56637061 -15.70796327\n",
      "  -18.84955592]\n",
      " [ -1.88495559  -3.76991118  -5.65486678  -7.53982237  -9.42477796\n",
      "  -11.30973355]\n",
      " [ -0.62831853  -1.25663706  -1.88495559  -2.51327412  -3.14159265\n",
      "   -3.76991118]\n",
      " [  0.62831853   1.25663706   1.88495559   2.51327412   3.14159265\n",
      "    3.76991118]\n",
      " [  1.88495559   3.76991118   5.65486678   7.53982237   9.42477796\n",
      "   11.30973355]\n",
      " [  3.14159265   6.28318531   9.42477796  12.56637061  15.70796327\n",
      "   18.84955592]]\n"
     ]
    }
   ],
   "source": [
    "product = tf.matmul(matrix3,matrix4)\n",
    "add = tf.add(matrix3,matrix4)\n",
    "# 常规的乘法\n",
    "mul = tf.multiply(matrix3,matrix4)\n",
    "# 开启会话,执行运算\n",
    "with tf.Session() as sess:\n",
    "    print(sess.run(product))  #  [[12.]]\n",
    "    print(sess.run(add))\n",
    "    #  [[5. 5.]\n",
    "    #  [5. 5.]]\n",
    "    print(\" \")\n",
    "    print(sess.run(mul))\n",
    "    # [[6. 6.]\n",
    "    # [6. 6.]]"
   ]
  }
 ],
 "metadata": {
  "kernelspec": {
   "display_name": "Python 3",
   "language": "python",
   "name": "python3"
  },
  "language_info": {
   "codemirror_mode": {
    "name": "ipython",
    "version": 3
   },
   "file_extension": ".py",
   "mimetype": "text/x-python",
   "name": "python",
   "nbconvert_exporter": "python",
   "pygments_lexer": "ipython3",
   "version": "3.6.5"
  }
 },
 "nbformat": 4,
 "nbformat_minor": 1
}
